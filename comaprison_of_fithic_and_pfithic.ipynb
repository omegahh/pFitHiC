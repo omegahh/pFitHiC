{
 "cells": [
  {
   "cell_type": "code",
   "execution_count": 1,
   "metadata": {},
   "outputs": [],
   "source": [
    "import numpy as np\n",
    "import pandas as pd\n",
    "import matplotlib\n",
    "import matplotlib.pyplot as plt"
   ]
  },
  {
   "cell_type": "markdown",
   "metadata": {},
   "source": [
    "### Comparison of contactProbability"
   ]
  },
  {
   "cell_type": "code",
   "execution_count": 2,
   "metadata": {},
   "outputs": [],
   "source": [
    "bench_cp = pd.read_csv('test/fithic_outputs/FitHiC.fithic_pass1.res40000.txt', sep='\\t')"
   ]
  },
  {
   "cell_type": "code",
   "execution_count": 3,
   "metadata": {},
   "outputs": [
    {
     "data": {
      "text/html": [
       "<div>\n",
       "<style scoped>\n",
       "    .dataframe tbody tr th:only-of-type {\n",
       "        vertical-align: middle;\n",
       "    }\n",
       "\n",
       "    .dataframe tbody tr th {\n",
       "        vertical-align: top;\n",
       "    }\n",
       "\n",
       "    .dataframe thead th {\n",
       "        text-align: right;\n",
       "    }\n",
       "</style>\n",
       "<table border=\"1\" class=\"dataframe\">\n",
       "  <thead>\n",
       "    <tr style=\"text-align: right;\">\n",
       "      <th></th>\n",
       "      <th>avgGenomicDist</th>\n",
       "      <th>contactProbability</th>\n",
       "      <th>standardError</th>\n",
       "      <th>noOfLocusPairs</th>\n",
       "      <th>totalOfContactCounts</th>\n",
       "    </tr>\n",
       "  </thead>\n",
       "  <tbody>\n",
       "    <tr>\n",
       "      <td>0</td>\n",
       "      <td>80000</td>\n",
       "      <td>0.000016</td>\n",
       "      <td>0.0</td>\n",
       "      <td>6230</td>\n",
       "      <td>657712</td>\n",
       "    </tr>\n",
       "    <tr>\n",
       "      <td>1</td>\n",
       "      <td>120000</td>\n",
       "      <td>0.000013</td>\n",
       "      <td>0.0</td>\n",
       "      <td>6229</td>\n",
       "      <td>517185</td>\n",
       "    </tr>\n",
       "    <tr>\n",
       "      <td>2</td>\n",
       "      <td>160000</td>\n",
       "      <td>0.000011</td>\n",
       "      <td>0.0</td>\n",
       "      <td>6228</td>\n",
       "      <td>431841</td>\n",
       "    </tr>\n",
       "    <tr>\n",
       "      <td>3</td>\n",
       "      <td>200000</td>\n",
       "      <td>0.000009</td>\n",
       "      <td>0.0</td>\n",
       "      <td>6227</td>\n",
       "      <td>371687</td>\n",
       "    </tr>\n",
       "    <tr>\n",
       "      <td>4</td>\n",
       "      <td>240000</td>\n",
       "      <td>0.000008</td>\n",
       "      <td>0.0</td>\n",
       "      <td>6226</td>\n",
       "      <td>323129</td>\n",
       "    </tr>\n",
       "  </tbody>\n",
       "</table>\n",
       "</div>"
      ],
      "text/plain": [
       "   avgGenomicDist  contactProbability  standardError  noOfLocusPairs  \\\n",
       "0           80000            0.000016            0.0            6230   \n",
       "1          120000            0.000013            0.0            6229   \n",
       "2          160000            0.000011            0.0            6228   \n",
       "3          200000            0.000009            0.0            6227   \n",
       "4          240000            0.000008            0.0            6226   \n",
       "\n",
       "   totalOfContactCounts  \n",
       "0                657712  \n",
       "1                517185  \n",
       "2                431841  \n",
       "3                371687  \n",
       "4                323129  "
      ]
     },
     "execution_count": 3,
     "metadata": {},
     "output_type": "execute_result"
    }
   ],
   "source": [
    "bench_cp.head()"
   ]
  },
  {
   "cell_type": "code",
   "execution_count": 4,
   "metadata": {},
   "outputs": [],
   "source": [
    "mynew_cp = pd.read_csv('test/pfithic_output/OMEGA_FitHiC.pass1_fithic.tsv', sep='\\t')"
   ]
  },
  {
   "cell_type": "code",
   "execution_count": 5,
   "metadata": {},
   "outputs": [
    {
     "data": {
      "text/html": [
       "<div>\n",
       "<style scoped>\n",
       "    .dataframe tbody tr th:only-of-type {\n",
       "        vertical-align: middle;\n",
       "    }\n",
       "\n",
       "    .dataframe tbody tr th {\n",
       "        vertical-align: top;\n",
       "    }\n",
       "\n",
       "    .dataframe thead th {\n",
       "        text-align: right;\n",
       "    }\n",
       "</style>\n",
       "<table border=\"1\" class=\"dataframe\">\n",
       "  <thead>\n",
       "    <tr style=\"text-align: right;\">\n",
       "      <th></th>\n",
       "      <th>avgGenomicDist</th>\n",
       "      <th>contactProbability</th>\n",
       "      <th>standardError</th>\n",
       "      <th>noOfLocusPairs</th>\n",
       "      <th>totalOfContactCounts</th>\n",
       "    </tr>\n",
       "  </thead>\n",
       "  <tbody>\n",
       "    <tr>\n",
       "      <td>0</td>\n",
       "      <td>80000</td>\n",
       "      <td>0.000016</td>\n",
       "      <td>2.608700e-09</td>\n",
       "      <td>6230</td>\n",
       "      <td>657712</td>\n",
       "    </tr>\n",
       "    <tr>\n",
       "      <td>1</td>\n",
       "      <td>120000</td>\n",
       "      <td>0.000013</td>\n",
       "      <td>2.052000e-09</td>\n",
       "      <td>6229</td>\n",
       "      <td>517185</td>\n",
       "    </tr>\n",
       "    <tr>\n",
       "      <td>2</td>\n",
       "      <td>160000</td>\n",
       "      <td>0.000011</td>\n",
       "      <td>1.713900e-09</td>\n",
       "      <td>6228</td>\n",
       "      <td>431841</td>\n",
       "    </tr>\n",
       "    <tr>\n",
       "      <td>3</td>\n",
       "      <td>200000</td>\n",
       "      <td>0.000009</td>\n",
       "      <td>1.475700e-09</td>\n",
       "      <td>6227</td>\n",
       "      <td>371687</td>\n",
       "    </tr>\n",
       "    <tr>\n",
       "      <td>4</td>\n",
       "      <td>240000</td>\n",
       "      <td>0.000008</td>\n",
       "      <td>1.283300e-09</td>\n",
       "      <td>6226</td>\n",
       "      <td>323129</td>\n",
       "    </tr>\n",
       "  </tbody>\n",
       "</table>\n",
       "</div>"
      ],
      "text/plain": [
       "   avgGenomicDist  contactProbability  standardError  noOfLocusPairs  \\\n",
       "0           80000            0.000016   2.608700e-09            6230   \n",
       "1          120000            0.000013   2.052000e-09            6229   \n",
       "2          160000            0.000011   1.713900e-09            6228   \n",
       "3          200000            0.000009   1.475700e-09            6227   \n",
       "4          240000            0.000008   1.283300e-09            6226   \n",
       "\n",
       "   totalOfContactCounts  \n",
       "0                657712  \n",
       "1                517185  \n",
       "2                431841  \n",
       "3                371687  \n",
       "4                323129  "
      ]
     },
     "execution_count": 5,
     "metadata": {},
     "output_type": "execute_result"
    }
   ],
   "source": [
    "mynew_cp.head()"
   ]
  },
  {
   "cell_type": "code",
   "execution_count": 6,
   "metadata": {},
   "outputs": [
    {
     "data": {
      "image/png": "[encoded data removed]",
      "text/plain": [
       "<Figure size 432x288 with 1 Axes>"
      ]
     },
     "metadata": {
      "needs_background": "light"
     },
     "output_type": "display_data"
    }
   ],
   "source": [
    "plt.plot(bench_cp['contactProbability'].values * 1e4, mynew_cp['contactProbability'].values * 1e4)\n",
    "plt.xlabel(r'contactProbability of benchmark ($\\times 10^{-4}$)')\n",
    "plt.ylabel(r'contactProbability of my result ($\\times 10^{-4}$)');"
   ]
  },
  {
   "cell_type": "markdown",
   "metadata": {},
   "source": [
    "### Comparision of contactSignificance"
   ]
  },
  {
   "cell_type": "code",
   "execution_count": 7,
   "metadata": {},
   "outputs": [],
   "source": [
    "bench_sig = pd.read_csv('test/fithic_outputs/FitHiC.spline_pass1.res40000.significances.txt.gz', sep='\\t')"
   ]
  },
  {
   "cell_type": "code",
   "execution_count": 8,
   "metadata": {},
   "outputs": [
    {
     "data": {
      "text/html": [
       "<div>\n",
       "<style scoped>\n",
       "    .dataframe tbody tr th:only-of-type {\n",
       "        vertical-align: middle;\n",
       "    }\n",
       "\n",
       "    .dataframe tbody tr th {\n",
       "        vertical-align: top;\n",
       "    }\n",
       "\n",
       "    .dataframe thead th {\n",
       "        text-align: right;\n",
       "    }\n",
       "</style>\n",
       "<table border=\"1\" class=\"dataframe\">\n",
       "  <thead>\n",
       "    <tr style=\"text-align: right;\">\n",
       "      <th></th>\n",
       "      <th>chr1</th>\n",
       "      <th>fragmentMid1</th>\n",
       "      <th>chr2</th>\n",
       "      <th>fragmentMid2</th>\n",
       "      <th>contactCount</th>\n",
       "      <th>p-value</th>\n",
       "      <th>q-value</th>\n",
       "      <th>bias1</th>\n",
       "      <th>bias2</th>\n",
       "    </tr>\n",
       "  </thead>\n",
       "  <tbody>\n",
       "    <tr>\n",
       "      <td>0</td>\n",
       "      <td>chr1</td>\n",
       "      <td>100020000</td>\n",
       "      <td>chr1</td>\n",
       "      <td>100100000</td>\n",
       "      <td>201</td>\n",
       "      <td>7.783228e-17</td>\n",
       "      <td>7.525830e-15</td>\n",
       "      <td>1.0</td>\n",
       "      <td>1.0</td>\n",
       "    </tr>\n",
       "    <tr>\n",
       "      <td>1</td>\n",
       "      <td>chr1</td>\n",
       "      <td>100020000</td>\n",
       "      <td>chr1</td>\n",
       "      <td>100140000</td>\n",
       "      <td>232</td>\n",
       "      <td>1.845237e-40</td>\n",
       "      <td>1.027228e-37</td>\n",
       "      <td>1.0</td>\n",
       "      <td>1.0</td>\n",
       "    </tr>\n",
       "    <tr>\n",
       "      <td>2</td>\n",
       "      <td>chr1</td>\n",
       "      <td>100020000</td>\n",
       "      <td>chr1</td>\n",
       "      <td>100180000</td>\n",
       "      <td>138</td>\n",
       "      <td>2.165469e-13</td>\n",
       "      <td>1.486052e-11</td>\n",
       "      <td>1.0</td>\n",
       "      <td>1.0</td>\n",
       "    </tr>\n",
       "    <tr>\n",
       "      <td>3</td>\n",
       "      <td>chr1</td>\n",
       "      <td>100020000</td>\n",
       "      <td>chr1</td>\n",
       "      <td>100220000</td>\n",
       "      <td>87</td>\n",
       "      <td>4.396614e-04</td>\n",
       "      <td>6.872577e-03</td>\n",
       "      <td>1.0</td>\n",
       "      <td>1.0</td>\n",
       "    </tr>\n",
       "    <tr>\n",
       "      <td>4</td>\n",
       "      <td>chr1</td>\n",
       "      <td>100020000</td>\n",
       "      <td>chr1</td>\n",
       "      <td>100260000</td>\n",
       "      <td>25</td>\n",
       "      <td>9.999886e-01</td>\n",
       "      <td>1.000000e+00</td>\n",
       "      <td>1.0</td>\n",
       "      <td>1.0</td>\n",
       "    </tr>\n",
       "  </tbody>\n",
       "</table>\n",
       "</div>"
      ],
      "text/plain": [
       "   chr1  fragmentMid1  chr2  fragmentMid2  contactCount       p-value  \\\n",
       "0  chr1     100020000  chr1     100100000           201  7.783228e-17   \n",
       "1  chr1     100020000  chr1     100140000           232  1.845237e-40   \n",
       "2  chr1     100020000  chr1     100180000           138  2.165469e-13   \n",
       "3  chr1     100020000  chr1     100220000            87  4.396614e-04   \n",
       "4  chr1     100020000  chr1     100260000            25  9.999886e-01   \n",
       "\n",
       "        q-value  bias1  bias2  \n",
       "0  7.525830e-15    1.0    1.0  \n",
       "1  1.027228e-37    1.0    1.0  \n",
       "2  1.486052e-11    1.0    1.0  \n",
       "3  6.872577e-03    1.0    1.0  \n",
       "4  1.000000e+00    1.0    1.0  "
      ]
     },
     "execution_count": 8,
     "metadata": {},
     "output_type": "execute_result"
    }
   ],
   "source": [
    "bench_sig.head()"
   ]
  },
  {
   "cell_type": "code",
   "execution_count": 9,
   "metadata": {},
   "outputs": [],
   "source": [
    "mynew_sig = pd.read_csv('test/pfithic_output/OMEGA_FitHiC.pass1_spline.significant.gz', sep='\\t')"
   ]
  },
  {
   "cell_type": "code",
   "execution_count": 10,
   "metadata": {},
   "outputs": [],
   "source": [
    "mynew_sig = mynew_sig[mynew_sig.contactType == 'intraInRange']"
   ]
  },
  {
   "cell_type": "code",
   "execution_count": 11,
   "metadata": {},
   "outputs": [
    {
     "data": {
      "text/html": [
       "<div>\n",
       "<style scoped>\n",
       "    .dataframe tbody tr th:only-of-type {\n",
       "        vertical-align: middle;\n",
       "    }\n",
       "\n",
       "    .dataframe tbody tr th {\n",
       "        vertical-align: top;\n",
       "    }\n",
       "\n",
       "    .dataframe thead th {\n",
       "        text-align: right;\n",
       "    }\n",
       "</style>\n",
       "<table border=\"1\" class=\"dataframe\">\n",
       "  <thead>\n",
       "    <tr style=\"text-align: right;\">\n",
       "      <th></th>\n",
       "      <th>chr1</th>\n",
       "      <th>locus1</th>\n",
       "      <th>chr2</th>\n",
       "      <th>locus2</th>\n",
       "      <th>contactCount</th>\n",
       "      <th>distance</th>\n",
       "      <th>contactType</th>\n",
       "      <th>p_vals</th>\n",
       "      <th>q_vals</th>\n",
       "    </tr>\n",
       "  </thead>\n",
       "  <tbody>\n",
       "    <tr>\n",
       "      <td>0</td>\n",
       "      <td>chr1</td>\n",
       "      <td>100020000</td>\n",
       "      <td>chr1</td>\n",
       "      <td>100100000</td>\n",
       "      <td>201</td>\n",
       "      <td>80000</td>\n",
       "      <td>intraInRange</td>\n",
       "      <td>7.783232e-17</td>\n",
       "      <td>7.525832e-15</td>\n",
       "    </tr>\n",
       "    <tr>\n",
       "      <td>1</td>\n",
       "      <td>chr1</td>\n",
       "      <td>100020000</td>\n",
       "      <td>chr1</td>\n",
       "      <td>100140000</td>\n",
       "      <td>232</td>\n",
       "      <td>120000</td>\n",
       "      <td>intraInRange</td>\n",
       "      <td>1.845234e-40</td>\n",
       "      <td>1.027226e-37</td>\n",
       "    </tr>\n",
       "    <tr>\n",
       "      <td>2</td>\n",
       "      <td>chr1</td>\n",
       "      <td>100020000</td>\n",
       "      <td>chr1</td>\n",
       "      <td>100180000</td>\n",
       "      <td>138</td>\n",
       "      <td>160000</td>\n",
       "      <td>intraInRange</td>\n",
       "      <td>2.165468e-13</td>\n",
       "      <td>1.486052e-11</td>\n",
       "    </tr>\n",
       "    <tr>\n",
       "      <td>3</td>\n",
       "      <td>chr1</td>\n",
       "      <td>100020000</td>\n",
       "      <td>chr1</td>\n",
       "      <td>100220000</td>\n",
       "      <td>87</td>\n",
       "      <td>200000</td>\n",
       "      <td>intraInRange</td>\n",
       "      <td>4.396615e-04</td>\n",
       "      <td>6.872567e-03</td>\n",
       "    </tr>\n",
       "    <tr>\n",
       "      <td>4</td>\n",
       "      <td>chr1</td>\n",
       "      <td>100020000</td>\n",
       "      <td>chr1</td>\n",
       "      <td>100260000</td>\n",
       "      <td>25</td>\n",
       "      <td>240000</td>\n",
       "      <td>intraInRange</td>\n",
       "      <td>9.999886e-01</td>\n",
       "      <td>1.000000e+00</td>\n",
       "    </tr>\n",
       "  </tbody>\n",
       "</table>\n",
       "</div>"
      ],
      "text/plain": [
       "   chr1     locus1  chr2     locus2  contactCount  distance   contactType  \\\n",
       "0  chr1  100020000  chr1  100100000           201     80000  intraInRange   \n",
       "1  chr1  100020000  chr1  100140000           232    120000  intraInRange   \n",
       "2  chr1  100020000  chr1  100180000           138    160000  intraInRange   \n",
       "3  chr1  100020000  chr1  100220000            87    200000  intraInRange   \n",
       "4  chr1  100020000  chr1  100260000            25    240000  intraInRange   \n",
       "\n",
       "         p_vals        q_vals  \n",
       "0  7.783232e-17  7.525832e-15  \n",
       "1  1.845234e-40  1.027226e-37  \n",
       "2  2.165468e-13  1.486052e-11  \n",
       "3  4.396615e-04  6.872567e-03  \n",
       "4  9.999886e-01  1.000000e+00  "
      ]
     },
     "execution_count": 11,
     "metadata": {},
     "output_type": "execute_result"
    }
   ],
   "source": [
    "mynew_sig.head()"
   ]
  },
  {
   "cell_type": "code",
   "execution_count": 12,
   "metadata": {},
   "outputs": [
    {
     "data": {
      "text/plain": [
       "Text(0, 0.5, 'q-values of my result')"
      ]
     },
     "execution_count": 12,
     "metadata": {},
     "output_type": "execute_result"
    },
    {
     "data": {
      "image/png": "[encoded data removed]",
      "text/plain": [
       "<Figure size 864x288 with 2 Axes>"
      ]
     },
     "metadata": {
      "needs_background": "light"
     },
     "output_type": "display_data"
    }
   ],
   "source": [
    "fig = plt.figure(figsize=[12,4])\n",
    "plt.subplot(121)\n",
    "plt.plot(bench_sig['p-value'].values, mynew_sig['p_vals'].values)\n",
    "plt.xlabel(r'p-values of benchmark')\n",
    "plt.ylabel(r'p-values of my result')\n",
    "plt.subplot(122)\n",
    "plt.plot(bench_sig['q-value'].values, mynew_sig['q_vals'].values)\n",
    "plt.xlabel(r'q-values of benchmark')\n",
    "plt.ylabel(r'q-values of my result')"
   ]
  }
 ],
 "metadata": {
  "kernelspec": {
   "display_name": "Python 3",
   "language": "python",
   "name": "python3"
  },
  "language_info": {
   "codemirror_mode": {
    "name": "ipython",
    "version": 3
   },
   "file_extension": ".py",
   "mimetype": "text/x-python",
   "name": "python",
   "nbconvert_exporter": "python",
   "pygments_lexer": "ipython3",
   "version": "3.6.8"
  }
 },
 "nbformat": 4,
 "nbformat_minor": 4
}
